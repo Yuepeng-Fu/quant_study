{
 "cells": [
  {
   "cell_type": "code",
   "execution_count": 3,
   "metadata": {},
   "outputs": [
    {
     "name": "stdout",
     "output_type": "stream",
     "text": [
      "数据路径是： E:\\Projects\\quant_study\\data\n"
     ]
    }
   ],
   "source": [
    "# notebooks/01_data_explore.ipynb\n",
    "import sys\n",
    "from pathlib import Path\n",
    "import os\n",
    "os.environ['http_proxy'] = 'http://127.0.0.1:7890'\n",
    "os.environ['https_proxy'] = 'http://127.0.0.1:7890'\n",
    "\n",
    "# 项目根目录 = notebooks/ 的父目录\n",
    "PROJECT_ROOT = Path.cwd().parent\n",
    "sys.path.append(str(PROJECT_ROOT))  # 添加项目根路径\n",
    "\n",
    "# 导入 path 管理模块\n",
    "from config import path\n",
    "\n",
    "print(\"数据路径是：\", path.DATA_DIR)\n"
   ]
  },
  {
   "cell_type": "code",
   "execution_count": 5,
   "metadata": {},
   "outputs": [
    {
     "name": "stderr",
     "output_type": "stream",
     "text": [
      "C:\\Users\\Administrator\\AppData\\Local\\Temp\\ipykernel_2448\\1035688959.py:10: FutureWarning: YF.download() has changed argument auto_adjust default to True\n",
      "  maotai_data = yf.download(symbol, start=\"2025-09-01\", end=\"2025-09-03\")\n",
      "[*********************100%***********************]  1 of 1 completed"
     ]
    },
    {
     "name": "stdout",
     "output_type": "stream",
     "text": [
      "Price             Close      High          Low         Open    Volume\n",
      "Ticker        600519.SS 600519.SS    600519.SS    600519.SS 600519.SS\n",
      "Date                                                                 \n",
      "2025-09-01  1476.099976    1488.0  1465.699951  1482.199951   4512338\n",
      "2025-09-02  1491.300049    1509.0  1478.000000  1478.660034   5668837\n"
     ]
    },
    {
     "name": "stderr",
     "output_type": "stream",
     "text": [
      "\n"
     ]
    }
   ],
   "source": [
    "import yfinance as yf\n",
    "\n",
    "# 上海证券交易所，茅台公司股票代码\n",
    "symbol = \"600519.SS\"\n",
    "\n",
    "# 或者，深圳证券交易所，泸州老窖公司股票代码\n",
    "luzhou_laojiao_szse = yf.Ticker('000568.SZ')\n",
    "\n",
    "# 获取茅台公司股票数据\n",
    "maotai_data = yf.download(symbol, start=\"2025-09-01\", end=\"2025-09-03\")\n",
    "\n",
    "# 打印数据的前几行\n",
    "print(maotai_data.head())"
   ]
  }
 ],
 "metadata": {
  "kernelspec": {
   "display_name": "quant",
   "language": "python",
   "name": "python3"
  },
  "language_info": {
   "codemirror_mode": {
    "name": "ipython",
    "version": 3
   },
   "file_extension": ".py",
   "mimetype": "text/x-python",
   "name": "python",
   "nbconvert_exporter": "python",
   "pygments_lexer": "ipython3",
   "version": "3.10.18"
  },
  "orig_nbformat": 4
 },
 "nbformat": 4,
 "nbformat_minor": 2
}
